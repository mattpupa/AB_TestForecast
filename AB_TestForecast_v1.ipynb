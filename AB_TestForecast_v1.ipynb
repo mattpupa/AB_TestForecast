{
 "cells": [
  {
   "cell_type": "markdown",
   "metadata": {},
   "source": [
    "## A/B Test Forecast\n",
    "\n",
    "This forecast is built for SaaS products with free trial periods. It will predict whether or not there will be a statistically significant difference in conversion rate between different groups of an A/B test.\n",
    "\n",
    "The forecast first gathers historical data from the A/B test and analyzes how the conversion rate is trending for that historical data. Once the predicted conversion rate for the historical data is complete, the assumed conversion rates are applied to each group in the A/B test for future data.\n",
    "\n",
    "**Users have the ability to select different inputs for future test data, including...**\n",
    "\n",
    "1. Days the A/B test runs in the future\n",
    "2. How many entries are added to the A/B test each day\n",
    "3. Adjustments in conversion rate performance (+/- X%)\n",
    "\n",
    "**The forecast also includes the following assumptions...**\n",
    "\n",
    "1. There can be up to 4 different groups in the A/B test\n",
    "2. Forecast allows up to 6 weeks of historical data"
   ]
  },
  {
   "cell_type": "code",
   "execution_count": 1,
   "metadata": {},
   "outputs": [],
   "source": [
    "# Import packages\n",
    "import pandas as pd\n",
    "import numpy as np\n"
   ]
  },
  {
   "cell_type": "code",
   "execution_count": 2,
   "metadata": {},
   "outputs": [],
   "source": [
    "# Upload historical data from test\n",
    "raw = pd.read_csv('/Users/Matt/Desktop/Programming/Python/AB_TestForecast/test_data.csv', na_values=' ')\n"
   ]
  },
  {
   "cell_type": "code",
   "execution_count": 5,
   "metadata": {},
   "outputs": [],
   "source": [
    "# Convert date fields from object to date format\n",
    "raw['TRIAL_START_DATE'] = pd.to_datetime(raw['TRIAL_START_DATE'])\n",
    "raw['CONVERT_DATE'] = pd.to_datetime(raw['CONVERT_DATE'])\n"
   ]
  },
  {
   "cell_type": "code",
   "execution_count": 6,
   "metadata": {},
   "outputs": [
    {
     "name": "stdout",
     "output_type": "stream",
     "text": [
      "<class 'pandas.core.frame.DataFrame'>\n",
      "RangeIndex: 25483 entries, 0 to 25482\n",
      "Data columns (total 4 columns):\n",
      " #   Column            Non-Null Count  Dtype         \n",
      "---  ------            --------------  -----         \n",
      " 0   UID               25483 non-null  int64         \n",
      " 1   GROUP_NAME        25483 non-null  object        \n",
      " 2   TRIAL_START_DATE  25483 non-null  datetime64[ns]\n",
      " 3   CONVERT_DATE      6297 non-null   datetime64[ns]\n",
      "dtypes: datetime64[ns](2), int64(1), object(1)\n",
      "memory usage: 796.5+ KB\n"
     ]
    },
    {
     "data": {
      "text/html": [
       "<div>\n",
       "<style scoped>\n",
       "    .dataframe tbody tr th:only-of-type {\n",
       "        vertical-align: middle;\n",
       "    }\n",
       "\n",
       "    .dataframe tbody tr th {\n",
       "        vertical-align: top;\n",
       "    }\n",
       "\n",
       "    .dataframe thead th {\n",
       "        text-align: right;\n",
       "    }\n",
       "</style>\n",
       "<table border=\"1\" class=\"dataframe\">\n",
       "  <thead>\n",
       "    <tr style=\"text-align: right;\">\n",
       "      <th></th>\n",
       "      <th>UID</th>\n",
       "      <th>GROUP_NAME</th>\n",
       "      <th>TRIAL_START_DATE</th>\n",
       "      <th>CONVERT_DATE</th>\n",
       "    </tr>\n",
       "  </thead>\n",
       "  <tbody>\n",
       "    <tr>\n",
       "      <th>0</th>\n",
       "      <td>1114728035448</td>\n",
       "      <td>4947a_Control</td>\n",
       "      <td>2013-09-02</td>\n",
       "      <td>2013-09-05</td>\n",
       "    </tr>\n",
       "    <tr>\n",
       "      <th>1</th>\n",
       "      <td>1114567510056</td>\n",
       "      <td>4947b_Limit10</td>\n",
       "      <td>2013-08-18</td>\n",
       "      <td>2013-08-20</td>\n",
       "    </tr>\n",
       "    <tr>\n",
       "      <th>2</th>\n",
       "      <td>1114497359375</td>\n",
       "      <td>4947a_Control</td>\n",
       "      <td>2013-08-14</td>\n",
       "      <td>2013-09-01</td>\n",
       "    </tr>\n",
       "    <tr>\n",
       "      <th>3</th>\n",
       "      <td>1114329428592</td>\n",
       "      <td>4947a_Control</td>\n",
       "      <td>2013-07-29</td>\n",
       "      <td>2013-07-31</td>\n",
       "    </tr>\n",
       "    <tr>\n",
       "      <th>4</th>\n",
       "      <td>1114539386764</td>\n",
       "      <td>4947a_Control</td>\n",
       "      <td>2013-08-16</td>\n",
       "      <td>NaT</td>\n",
       "    </tr>\n",
       "  </tbody>\n",
       "</table>\n",
       "</div>"
      ],
      "text/plain": [
       "             UID     GROUP_NAME TRIAL_START_DATE CONVERT_DATE\n",
       "0  1114728035448  4947a_Control       2013-09-02   2013-09-05\n",
       "1  1114567510056  4947b_Limit10       2013-08-18   2013-08-20\n",
       "2  1114497359375  4947a_Control       2013-08-14   2013-09-01\n",
       "3  1114329428592  4947a_Control       2013-07-29   2013-07-31\n",
       "4  1114539386764  4947a_Control       2013-08-16          NaT"
      ]
     },
     "execution_count": 6,
     "metadata": {},
     "output_type": "execute_result"
    }
   ],
   "source": [
    "# Preview data\n",
    "raw.info()\n",
    "raw.head()\n"
   ]
  },
  {
   "cell_type": "code",
   "execution_count": 8,
   "metadata": {},
   "outputs": [],
   "source": [
    "# Create variable for first and last dates of the A/B Test\n",
    "test_start = raw.TRIAL_START_DATE.min()\n",
    "test_latest = raw.TRIAL_START_DATE.max()\n"
   ]
  },
  {
   "cell_type": "code",
   "execution_count": null,
   "metadata": {},
   "outputs": [],
   "source": [
    "# Calculate difference between the test start and entrant date\n",
    "# (raw['TRIAL_START_DATE'] - trial_start) results in timedelta, so need to use dt.days to convert to int format\n",
    "raw['trialDiff'] = (raw['TRIAL_START_DATE'] - trial_start).dt.days\n"
   ]
  },
  {
   "cell_type": "code",
   "execution_count": null,
   "metadata": {},
   "outputs": [],
   "source": [
    "\n",
    "raw.info()\n",
    "raw.head()\n"
   ]
  },
  {
   "cell_type": "code",
   "execution_count": null,
   "metadata": {},
   "outputs": [],
   "source": [
    "# Create columns for Converting on days 1 - 60\n",
    "# Calculate difference between the test start and entrant date\n",
    "raw['convertDiff'] = (raw['convertDate'] - raw['TRIAL_START_DATE']).dt.days\n"
   ]
  },
  {
   "cell_type": "code",
   "execution_count": null,
   "metadata": {},
   "outputs": [],
   "source": [
    "# Create function to create columns for converting on days 1 - 60\n",
    "def create_conversion_columns():\n",
    "    i = 1\n",
    "    while i <= 60:\n",
    "        raw['convert'+str(i)] = raw['convertDiff'].apply(lambda row: 1 if row <= i else 0)\n",
    "        i += 1\n"
   ]
  },
  {
   "cell_type": "code",
   "execution_count": null,
   "metadata": {},
   "outputs": [],
   "source": [
    "# run function to add conversion columns\n",
    "create_conversion_columns()\n"
   ]
  },
  {
   "cell_type": "code",
   "execution_count": null,
   "metadata": {},
   "outputs": [],
   "source": [
    "raw.head(100)"
   ]
  },
  {
   "cell_type": "code",
   "execution_count": null,
   "metadata": {},
   "outputs": [],
   "source": []
  }
 ],
 "metadata": {
  "kernelspec": {
   "display_name": "Python 3",
   "language": "python",
   "name": "python3"
  },
  "language_info": {
   "codemirror_mode": {
    "name": "ipython",
    "version": 3
   },
   "file_extension": ".py",
   "mimetype": "text/x-python",
   "name": "python",
   "nbconvert_exporter": "python",
   "pygments_lexer": "ipython3",
   "version": "3.7.6"
  }
 },
 "nbformat": 4,
 "nbformat_minor": 4
}
